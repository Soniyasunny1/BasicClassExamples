{
 "cells": [
  {
   "cell_type": "code",
   "execution_count": 28,
   "source": [
    "import thinkplot\r\n",
    "import thinkstats2\r\n",
    "import pandas as pd\r\n",
    "import numpy as np"
   ],
   "outputs": [],
   "metadata": {}
  },
  {
   "cell_type": "markdown",
   "source": [
    "We'll take a look at some measures of dispersion here - or how spread out is our data. \n",
    "Are all of our values closely grouped together, or are they spread all over the place?\n",
    "\n",
    "We'll consider two sets of data here: the height of NBA players and the height of NFL players. \n",
    "Think about what we can know going in... hint: there's some really, really tall basketball players."
   ],
   "metadata": {}
  },
  {
   "cell_type": "code",
   "execution_count": 29,
   "source": [
    "#Import the two datasets\r\n",
    "dfNBA = pd.read_csv(\"NBA.csv\")\r\n",
    "dfNBA.head()"
   ],
   "outputs": [
    {
     "output_type": "execute_result",
     "data": {
      "text/html": [
       "<div>\n",
       "<style scoped>\n",
       "    .dataframe tbody tr th:only-of-type {\n",
       "        vertical-align: middle;\n",
       "    }\n",
       "\n",
       "    .dataframe tbody tr th {\n",
       "        vertical-align: top;\n",
       "    }\n",
       "\n",
       "    .dataframe thead th {\n",
       "        text-align: right;\n",
       "    }\n",
       "</style>\n",
       "<table border=\"1\" class=\"dataframe\">\n",
       "  <thead>\n",
       "    <tr style=\"text-align: right;\">\n",
       "      <th></th>\n",
       "      <th>Name</th>\n",
       "      <th>Games Played</th>\n",
       "      <th>MIN</th>\n",
       "      <th>PTS</th>\n",
       "      <th>FGM</th>\n",
       "      <th>FGA</th>\n",
       "      <th>FG%</th>\n",
       "      <th>3PM</th>\n",
       "      <th>3PA</th>\n",
       "      <th>3P%</th>\n",
       "      <th>...</th>\n",
       "      <th>Age</th>\n",
       "      <th>Birth_Place</th>\n",
       "      <th>Birthdate</th>\n",
       "      <th>Collage</th>\n",
       "      <th>Experience</th>\n",
       "      <th>Height</th>\n",
       "      <th>Pos</th>\n",
       "      <th>Team</th>\n",
       "      <th>Weight</th>\n",
       "      <th>BMI</th>\n",
       "    </tr>\n",
       "  </thead>\n",
       "  <tbody>\n",
       "    <tr>\n",
       "      <th>0</th>\n",
       "      <td>AJ Price</td>\n",
       "      <td>26</td>\n",
       "      <td>324</td>\n",
       "      <td>133</td>\n",
       "      <td>51</td>\n",
       "      <td>137</td>\n",
       "      <td>37.2</td>\n",
       "      <td>15</td>\n",
       "      <td>57</td>\n",
       "      <td>26.3</td>\n",
       "      <td>...</td>\n",
       "      <td>29.0</td>\n",
       "      <td>us</td>\n",
       "      <td>October 7, 1986</td>\n",
       "      <td>University of Connecticut</td>\n",
       "      <td>5</td>\n",
       "      <td>185.0</td>\n",
       "      <td>PG</td>\n",
       "      <td>PHO</td>\n",
       "      <td>81.45</td>\n",
       "      <td>23.798393</td>\n",
       "    </tr>\n",
       "    <tr>\n",
       "      <th>1</th>\n",
       "      <td>Aaron Brooks</td>\n",
       "      <td>82</td>\n",
       "      <td>1885</td>\n",
       "      <td>954</td>\n",
       "      <td>344</td>\n",
       "      <td>817</td>\n",
       "      <td>42.1</td>\n",
       "      <td>121</td>\n",
       "      <td>313</td>\n",
       "      <td>38.7</td>\n",
       "      <td>...</td>\n",
       "      <td>30.0</td>\n",
       "      <td>us</td>\n",
       "      <td>January 14, 1985</td>\n",
       "      <td>University of Oregon</td>\n",
       "      <td>6</td>\n",
       "      <td>180.0</td>\n",
       "      <td>PG</td>\n",
       "      <td>CHI</td>\n",
       "      <td>72.45</td>\n",
       "      <td>22.361111</td>\n",
       "    </tr>\n",
       "    <tr>\n",
       "      <th>2</th>\n",
       "      <td>Aaron Gordon</td>\n",
       "      <td>47</td>\n",
       "      <td>797</td>\n",
       "      <td>243</td>\n",
       "      <td>93</td>\n",
       "      <td>208</td>\n",
       "      <td>44.7</td>\n",
       "      <td>13</td>\n",
       "      <td>48</td>\n",
       "      <td>27.1</td>\n",
       "      <td>...</td>\n",
       "      <td>20.0</td>\n",
       "      <td>us</td>\n",
       "      <td>September 16, 1995</td>\n",
       "      <td>University of Arizona</td>\n",
       "      <td>R</td>\n",
       "      <td>202.5</td>\n",
       "      <td>PF</td>\n",
       "      <td>ORL</td>\n",
       "      <td>99.00</td>\n",
       "      <td>24.142661</td>\n",
       "    </tr>\n",
       "    <tr>\n",
       "      <th>3</th>\n",
       "      <td>Adreian Payne</td>\n",
       "      <td>32</td>\n",
       "      <td>740</td>\n",
       "      <td>213</td>\n",
       "      <td>91</td>\n",
       "      <td>220</td>\n",
       "      <td>41.4</td>\n",
       "      <td>1</td>\n",
       "      <td>9</td>\n",
       "      <td>11.1</td>\n",
       "      <td>...</td>\n",
       "      <td>24.0</td>\n",
       "      <td>us</td>\n",
       "      <td>February 19, 1991</td>\n",
       "      <td>Michigan State University</td>\n",
       "      <td>R</td>\n",
       "      <td>205.0</td>\n",
       "      <td>PF</td>\n",
       "      <td>ATL</td>\n",
       "      <td>106.65</td>\n",
       "      <td>25.377751</td>\n",
       "    </tr>\n",
       "    <tr>\n",
       "      <th>4</th>\n",
       "      <td>Al Horford</td>\n",
       "      <td>76</td>\n",
       "      <td>2318</td>\n",
       "      <td>1156</td>\n",
       "      <td>519</td>\n",
       "      <td>965</td>\n",
       "      <td>53.8</td>\n",
       "      <td>11</td>\n",
       "      <td>36</td>\n",
       "      <td>30.6</td>\n",
       "      <td>...</td>\n",
       "      <td>29.0</td>\n",
       "      <td>do</td>\n",
       "      <td>June 3, 1986</td>\n",
       "      <td>University of Florida</td>\n",
       "      <td>7</td>\n",
       "      <td>205.0</td>\n",
       "      <td>C</td>\n",
       "      <td>ATL</td>\n",
       "      <td>110.25</td>\n",
       "      <td>26.234384</td>\n",
       "    </tr>\n",
       "  </tbody>\n",
       "</table>\n",
       "<p>5 rows × 34 columns</p>\n",
       "</div>"
      ],
      "text/plain": [
       "            Name  Games Played   MIN   PTS  FGM  FGA   FG%  3PM  3PA   3P%  \\\n",
       "0       AJ Price            26   324   133   51  137  37.2   15   57  26.3   \n",
       "1   Aaron Brooks            82  1885   954  344  817  42.1  121  313  38.7   \n",
       "2   Aaron Gordon            47   797   243   93  208  44.7   13   48  27.1   \n",
       "3  Adreian Payne            32   740   213   91  220  41.4    1    9  11.1   \n",
       "4     Al Horford            76  2318  1156  519  965  53.8   11   36  30.6   \n",
       "\n",
       "   ...   Age  Birth_Place           Birthdate                    Collage  \\\n",
       "0  ...  29.0           us     October 7, 1986  University of Connecticut   \n",
       "1  ...  30.0           us    January 14, 1985       University of Oregon   \n",
       "2  ...  20.0           us  September 16, 1995      University of Arizona   \n",
       "3  ...  24.0           us   February 19, 1991  Michigan State University   \n",
       "4  ...  29.0           do        June 3, 1986      University of Florida   \n",
       "\n",
       "   Experience  Height  Pos  Team  Weight        BMI  \n",
       "0           5   185.0   PG   PHO   81.45  23.798393  \n",
       "1           6   180.0   PG   CHI   72.45  22.361111  \n",
       "2           R   202.5   PF   ORL   99.00  24.142661  \n",
       "3           R   205.0   PF   ATL  106.65  25.377751  \n",
       "4           7   205.0    C   ATL  110.25  26.234384  \n",
       "\n",
       "[5 rows x 34 columns]"
      ]
     },
     "metadata": {},
     "execution_count": 29
    }
   ],
   "metadata": {}
  },
  {
   "cell_type": "code",
   "execution_count": 30,
   "source": [
    "#Import the two datasets\r\n",
    "dfNFL = pd.read_csv(\"NFL.csv\")\r\n",
    "dfNFL.head()"
   ],
   "outputs": [
    {
     "output_type": "execute_result",
     "data": {
      "text/html": [
       "<div>\n",
       "<style scoped>\n",
       "    .dataframe tbody tr th:only-of-type {\n",
       "        vertical-align: middle;\n",
       "    }\n",
       "\n",
       "    .dataframe tbody tr th {\n",
       "        vertical-align: top;\n",
       "    }\n",
       "\n",
       "    .dataframe thead th {\n",
       "        text-align: right;\n",
       "    }\n",
       "</style>\n",
       "<table border=\"1\" class=\"dataframe\">\n",
       "  <thead>\n",
       "    <tr style=\"text-align: right;\">\n",
       "      <th></th>\n",
       "      <th>Age</th>\n",
       "      <th>Birth Place</th>\n",
       "      <th>Birthday</th>\n",
       "      <th>College</th>\n",
       "      <th>Current Status</th>\n",
       "      <th>Current Team</th>\n",
       "      <th>Experience</th>\n",
       "      <th>Height (inches)</th>\n",
       "      <th>High School</th>\n",
       "      <th>High School Location</th>\n",
       "      <th>Name</th>\n",
       "      <th>Number</th>\n",
       "      <th>Player Id</th>\n",
       "      <th>Position</th>\n",
       "      <th>Weight (lbs)</th>\n",
       "      <th>Years Played</th>\n",
       "    </tr>\n",
       "  </thead>\n",
       "  <tbody>\n",
       "    <tr>\n",
       "      <th>0</th>\n",
       "      <td>NaN</td>\n",
       "      <td>Grand Rapids , MI</td>\n",
       "      <td>5/23/1921</td>\n",
       "      <td>Notre Dame</td>\n",
       "      <td>Retired</td>\n",
       "      <td>NaN</td>\n",
       "      <td>3 Seasons</td>\n",
       "      <td>71.0</td>\n",
       "      <td>NaN</td>\n",
       "      <td>NaN</td>\n",
       "      <td>Evans, Fred</td>\n",
       "      <td>NaN</td>\n",
       "      <td>fredevans/2513736</td>\n",
       "      <td>NaN</td>\n",
       "      <td>185.0</td>\n",
       "      <td>1946 - 1948</td>\n",
       "    </tr>\n",
       "    <tr>\n",
       "      <th>1</th>\n",
       "      <td>NaN</td>\n",
       "      <td>Dayton , OH</td>\n",
       "      <td>12/21/1930</td>\n",
       "      <td>Dayton</td>\n",
       "      <td>Retired</td>\n",
       "      <td>NaN</td>\n",
       "      <td>1 Season</td>\n",
       "      <td>70.0</td>\n",
       "      <td>NaN</td>\n",
       "      <td>NaN</td>\n",
       "      <td>Raiff, Jim</td>\n",
       "      <td>NaN</td>\n",
       "      <td>jimraiff/2523700</td>\n",
       "      <td>NaN</td>\n",
       "      <td>235.0</td>\n",
       "      <td>1954 - 1954</td>\n",
       "    </tr>\n",
       "    <tr>\n",
       "      <th>2</th>\n",
       "      <td>56.0</td>\n",
       "      <td>Temple , TX</td>\n",
       "      <td>9/11/1960</td>\n",
       "      <td>Louisiana Tech</td>\n",
       "      <td>Retired</td>\n",
       "      <td>NaN</td>\n",
       "      <td>1 Season</td>\n",
       "      <td>74.0</td>\n",
       "      <td>NaN</td>\n",
       "      <td>NaN</td>\n",
       "      <td>Fowler, Bobby</td>\n",
       "      <td>NaN</td>\n",
       "      <td>bobbyfowler/2514295</td>\n",
       "      <td>NaN</td>\n",
       "      <td>230.0</td>\n",
       "      <td>1985 - 1985</td>\n",
       "    </tr>\n",
       "    <tr>\n",
       "      <th>3</th>\n",
       "      <td>30.0</td>\n",
       "      <td>New Orleans , LA</td>\n",
       "      <td>9/30/1986</td>\n",
       "      <td>LSU</td>\n",
       "      <td>Retired</td>\n",
       "      <td>NaN</td>\n",
       "      <td>5 Seasons</td>\n",
       "      <td>73.0</td>\n",
       "      <td>NaN</td>\n",
       "      <td>NaN</td>\n",
       "      <td>Johnson, Quinn</td>\n",
       "      <td>NaN</td>\n",
       "      <td>quinnjohnson/79593</td>\n",
       "      <td>NaN</td>\n",
       "      <td>255.0</td>\n",
       "      <td>2009 - 2013</td>\n",
       "    </tr>\n",
       "    <tr>\n",
       "      <th>4</th>\n",
       "      <td>25.0</td>\n",
       "      <td>Detroit , MI</td>\n",
       "      <td>3/31/1992</td>\n",
       "      <td>Central Michigan</td>\n",
       "      <td>Active</td>\n",
       "      <td>Pittsburgh Steelers</td>\n",
       "      <td>3rd season</td>\n",
       "      <td>77.0</td>\n",
       "      <td>Clintondale HS</td>\n",
       "      <td>Clinton Twp.,Macomb Co., MI</td>\n",
       "      <td>Walton, L.T.</td>\n",
       "      <td>96.0</td>\n",
       "      <td>l.t.walton/2552444</td>\n",
       "      <td>DE</td>\n",
       "      <td>305.0</td>\n",
       "      <td>NaN</td>\n",
       "    </tr>\n",
       "  </tbody>\n",
       "</table>\n",
       "</div>"
      ],
      "text/plain": [
       "    Age        Birth Place    Birthday           College Current Status  \\\n",
       "0   NaN  Grand Rapids , MI   5/23/1921        Notre Dame        Retired   \n",
       "1   NaN        Dayton , OH  12/21/1930            Dayton        Retired   \n",
       "2  56.0        Temple , TX   9/11/1960    Louisiana Tech        Retired   \n",
       "3  30.0   New Orleans , LA   9/30/1986               LSU        Retired   \n",
       "4  25.0       Detroit , MI   3/31/1992  Central Michigan         Active   \n",
       "\n",
       "          Current Team  Experience  Height (inches)     High School  \\\n",
       "0                  NaN   3 Seasons             71.0             NaN   \n",
       "1                  NaN    1 Season             70.0             NaN   \n",
       "2                  NaN    1 Season             74.0             NaN   \n",
       "3                  NaN   5 Seasons             73.0             NaN   \n",
       "4  Pittsburgh Steelers  3rd season             77.0  Clintondale HS   \n",
       "\n",
       "          High School Location            Name  Number            Player Id  \\\n",
       "0                          NaN     Evans, Fred     NaN    fredevans/2513736   \n",
       "1                          NaN      Raiff, Jim     NaN     jimraiff/2523700   \n",
       "2                          NaN   Fowler, Bobby     NaN  bobbyfowler/2514295   \n",
       "3                          NaN  Johnson, Quinn     NaN   quinnjohnson/79593   \n",
       "4  Clinton Twp.,Macomb Co., MI    Walton, L.T.    96.0   l.t.walton/2552444   \n",
       "\n",
       "  Position  Weight (lbs) Years Played  \n",
       "0      NaN         185.0  1946 - 1948  \n",
       "1      NaN         235.0  1954 - 1954  \n",
       "2      NaN         230.0  1985 - 1985  \n",
       "3      NaN         255.0  2009 - 2013  \n",
       "4       DE         305.0          NaN  "
      ]
     },
     "metadata": {},
     "execution_count": 30
    }
   ],
   "metadata": {}
  },
  {
   "cell_type": "markdown",
   "source": [
    "For now, we don't really care about anything but height, so we'll just make an array for each.\n",
    "The dataframes are still there, you'll use them later."
   ],
   "metadata": {}
  },
  {
   "cell_type": "code",
   "execution_count": 31,
   "source": [
    "#Take the height column\r\n",
    "nba = dfNBA[\"Height\"]\r\n",
    "nfl = dfNFL[\"Height (inches)\"]\r\n",
    "\r\n",
    "#Dump the non-numbers\r\n",
    "nba = nba[~np.isnan(nba)]\r\n",
    "nfl = nfl[~np.isnan(nfl)]\r\n"
   ],
   "outputs": [],
   "metadata": {}
  },
  {
   "cell_type": "code",
   "execution_count": 32,
   "source": [
    "print(\"NBA Mean Height: \"+str(np.mean(nba)))\r\n",
    "print(\"NFL Mean Height: \"+str(np.mean(nfl)))"
   ],
   "outputs": [
    {
     "output_type": "stream",
     "name": "stdout",
     "text": [
      "NBA Mean Height: 197.44075829383885\n",
      "NFL Mean Height: 73.50839891929989\n"
     ]
    }
   ],
   "metadata": {}
  },
  {
   "cell_type": "markdown",
   "source": [
    "Well that's not great. NBA players probably aren't 2.5 times taller than NFL players.\n",
    "We need to correct between inches and cm.\n",
    "We're metric people, so we'll make the NFLers into cm. "
   ],
   "metadata": {}
  },
  {
   "cell_type": "code",
   "execution_count": 33,
   "source": [
    "#There are lots of ways to do this. It is called mapping a function, or applying a function to every value\r\n",
    "#Because ours is very simple, this shortcut works.\r\n",
    "#The syntax of doing this with more complex functions can get very confusing, so internet examples might be complex\r\n",
    "nfl = nfl*2.54\r\n",
    "nfl"
   ],
   "outputs": [
    {
     "output_type": "execute_result",
     "data": {
      "text/plain": [
       "0        180.34\n",
       "1        177.80\n",
       "2        187.96\n",
       "3        185.42\n",
       "4        195.58\n",
       "          ...  \n",
       "17167    180.34\n",
       "17168    190.50\n",
       "17169    182.88\n",
       "17170    185.42\n",
       "17171    185.42\n",
       "Name: Height (inches), Length: 17026, dtype: float64"
      ]
     },
     "metadata": {},
     "execution_count": 33
    }
   ],
   "metadata": {}
  },
  {
   "cell_type": "code",
   "execution_count": 34,
   "source": [
    "np.rint(nfl)\r\n",
    "np.rint(nba)"
   ],
   "outputs": [
    {
     "output_type": "execute_result",
     "data": {
      "text/plain": [
       "0      185.0\n",
       "1      180.0\n",
       "2      202.0\n",
       "3      205.0\n",
       "4      205.0\n",
       "       ...  \n",
       "485    195.0\n",
       "486    192.0\n",
       "487    202.0\n",
       "488    208.0\n",
       "489    192.0\n",
       "Name: Height, Length: 422, dtype: float64"
      ]
     },
     "metadata": {},
     "execution_count": 34
    }
   ],
   "metadata": {}
  },
  {
   "cell_type": "markdown",
   "source": [
    "Alright, try again..."
   ],
   "metadata": {}
  },
  {
   "cell_type": "code",
   "execution_count": 35,
   "source": [
    "print(\"NBA Mean Height: \"+str(np.mean(nba)))\r\n",
    "print(\"NFL Mean Height: \"+str(np.mean(nfl)))"
   ],
   "outputs": [
    {
     "output_type": "stream",
     "name": "stdout",
     "text": [
      "NBA Mean Height: 197.44075829383885\n",
      "NFL Mean Height: 186.71133325500546\n"
     ]
    }
   ],
   "metadata": {}
  },
  {
   "cell_type": "markdown",
   "source": [
    "Use the cell below and determine the range of both the datasets. "
   ],
   "metadata": {}
  },
  {
   "cell_type": "code",
   "execution_count": 36,
   "source": [
    "#Determine ranges"
   ],
   "outputs": [],
   "metadata": {}
  },
  {
   "cell_type": "markdown",
   "source": [
    "The averages, shown in cm, are around 6'6\" for the NBA, and 6'1\" for the NFL\n",
    "This makes some sense, NBA players are often really tall\n",
    "\n",
    "We can picture the distribution of heights with some histograms..."
   ],
   "metadata": {}
  },
  {
   "cell_type": "code",
   "execution_count": 37,
   "source": [
    "#Create Hist objects from thinkstats\r\n",
    "nbahist = thinkstats2.Hist(nba, label=\"NBA Height\")\r\n",
    "nflhist = thinkstats2.Hist(nfl, label=\"NFL Height\")"
   ],
   "outputs": [],
   "metadata": {}
  },
  {
   "cell_type": "code",
   "execution_count": 38,
   "source": [
    "\r\n",
    "\r\n",
    "\r\n",
    "#Create the dual histogram\r\n",
    "width = 2\r\n",
    "thinkplot.PrePlot(2)\r\n",
    "thinkplot.Hist(nflhist, align=\"right\", width=width)\r\n",
    "thinkplot.Hist(nbahist, align=\"left\", width=width)\r\n",
    "thinkplot.Config(xlabel='Height', ylabel='Count', xlim=[160, 220], ylim=[0,2500])"
   ],
   "outputs": [
    {
     "output_type": "display_data",
     "data": {
      "image/png": "[encoded data removed]",
      "text/plain": [
       "<Figure size 432x288 with 1 Axes>"
      ]
     },
     "metadata": {
      "needs_background": "light"
     }
    }
   ],
   "metadata": {}
  },
  {
   "cell_type": "code",
   "execution_count": 39,
   "source": [
    "#If you're making separate histograms, put it here \r\n"
   ],
   "outputs": [],
   "metadata": {}
  },
  {
   "cell_type": "markdown",
   "source": [
    "Now lets get down to business, which set of heights is more spread?\n",
    "Does this jive with reality (if you're a sports fan)?\n",
    "\n",
    "We can measure this, one measure is the Variance. The varaince formula is in the text, it is basically how far each value is from the mean, squared. Why squared...???????\n",
    "\n",
    "Luckily, we don't need to do the math, we have simple functions to do it for us. "
   ],
   "metadata": {}
  },
  {
   "cell_type": "code",
   "execution_count": 40,
   "source": [
    "#show var of two sets"
   ],
   "outputs": [],
   "metadata": {}
  },
  {
   "cell_type": "markdown",
   "source": [
    "Another measure of dispersion is the Standard Deviation - the square root of the Variance.\n",
    "\n",
    "The standard deviation is normally used with normal distributions. If you remember all the z score stuff from high school, that comes from this. \n"
   ],
   "metadata": {}
  },
  {
   "cell_type": "code",
   "execution_count": 41,
   "source": [
    "#Show standard deviations"
   ],
   "outputs": [],
   "metadata": {}
  },
  {
   "cell_type": "markdown",
   "source": [
    "The standard deviation is more useful in describing data in most situations. For an NBA example here, we can say that the average(mean) player is about 197cm tall, and we can expect a deviation of around 8.8cm to be very common.\n",
    "\n",
    "If you think back to the normal curve/z-score stuff you may have done, there are rules for how spread out things are based on this standard deviation: \"The Empirical Rule states that 99.7% of data observed following a normal distribution lies within 3 standard deviations of the mean. Under this rule, 68% of the data falls within one standard deviation, 95% percent within two standard deviations, and 99.7% within three standard deviations from the mean.\" The z-score is just a measure how how many standard deviations from the mean a value is.\n",
    "\n",
    "So we can expect about 68% of players to be between ~189 and ~206cm, about 95% to be between ~180 and ~215cm, and about 99.7% between ~171 and ~223cm - or about 7'3\"!!! This is assuming that our data is normal though - if you look at the two datasets, do you see any issues with that?"
   ],
   "metadata": {}
  },
  {
   "cell_type": "markdown",
   "source": [
    "One usefull thing to know, is what's a 'typical' value. One way we can determine that is by measuring something called the interquartile range (IQF) - fancy term for the difference between the 25th percentile and the 75 percentile. Could this be useful for something like measuring income? "
   ],
   "metadata": {}
  },
  {
   "cell_type": "code",
   "execution_count": null,
   "source": [],
   "outputs": [],
   "metadata": {}
  },
  {
   "cell_type": "markdown",
   "source": [
    "There's another tool we can use to examine some distributions, a probability mass function (PMF). PMFs largely provide the same functionality as histograms, but they show probability instead of total count. E.g. for our example a histogram would show how many NBA players are 205cm tall, a PMF woudl show the probability a NBA player is 205cm tall. This is especially usefull when we have different total numbers. To demonstrate, try putting both the NBA and NFL histograms on one chart..."
   ],
   "metadata": {}
  },
  {
   "cell_type": "code",
   "execution_count": 42,
   "source": [
    "#Create the dual histogram\r\n",
    "#Create the dual histogram\r\n",
    "width = 2\r\n",
    "thinkplot.PrePlot(2)\r\n",
    "thinkplot.Hist(nflhist, align=\"right\", width=width)\r\n",
    "thinkplot.Hist(nbahist, align=\"left\", width=width)\r\n",
    "thinkplot.Config(xlabel='Height', ylabel='Count', xlim=[160, 220], ylim=[0,2500])"
   ],
   "outputs": [
    {
     "output_type": "display_data",
     "data": {
      "image/png": "[encoded data removed]",
      "text/plain": [
       "<Figure size 432x288 with 1 Axes>"
      ]
     },
     "metadata": {
      "needs_background": "light"
     }
    }
   ],
   "metadata": {}
  },
  {
   "cell_type": "markdown",
   "source": [
    "PMF charts allow us a more convinients way to look at this data, especially when we have a lot of data. "
   ],
   "metadata": {}
  },
  {
   "cell_type": "code",
   "execution_count": 43,
   "source": [
    "#Create PMFs\r\n",
    "nbapmf = thinkstats2.Pmf(nba)\r\n",
    "nflpmf = thinkstats2.Pmf(nfl)"
   ],
   "outputs": [],
   "metadata": {}
  },
  {
   "cell_type": "code",
   "execution_count": 44,
   "source": [
    "#Graph\r\n",
    "thinkplot.PrePlot(2)\r\n",
    "thinkplot.Pmfs([nbapmf, nflpmf])\r\n",
    "thinkplot.Show(xlabel = \"Height (cm)\", ylabel = \"Probability\")"
   ],
   "outputs": [
    {
     "output_type": "display_data",
     "data": {
      "image/png": "[encoded data removed]",
      "text/plain": [
       "<Figure size 432x288 with 1 Axes>"
      ]
     },
     "metadata": {
      "needs_background": "light"
     }
    },
    {
     "output_type": "display_data",
     "data": {
      "text/plain": [
       "<Figure size 576x432 with 0 Axes>"
      ]
     },
     "metadata": {}
    }
   ],
   "metadata": {}
  },
  {
   "cell_type": "markdown",
   "source": [
    "This graph is probably more useable, especially if we are using this data to try to draw conclusions or make predictions (which is the eventual point for all of this). For example, a glance at this chart tells us that about 15% of NBA players are ~205cm tall.\n",
    "\n",
    "If you're familiar with some calculus, you'd integrate this PMF to get the probability within any range (though this depends on having an analytical distribution, or one defined by a mathmatical function)"
   ],
   "metadata": {}
  },
  {
   "cell_type": "code",
   "execution_count": 45,
   "source": [
    "nbapmf.Normalize()\r\n",
    "nbapmf.Total()"
   ],
   "outputs": [
    {
     "output_type": "execute_result",
     "data": {
      "text/plain": [
       "1.0"
      ]
     },
     "metadata": {},
     "execution_count": 45
    }
   ],
   "metadata": {}
  },
  {
   "cell_type": "code",
   "execution_count": 46,
   "source": [
    "nbapmf.Prob(205)"
   ],
   "outputs": [
    {
     "output_type": "execute_result",
     "data": {
      "text/plain": [
       "0.0971563981042654"
      ]
     },
     "metadata": {},
     "execution_count": 46
    }
   ],
   "metadata": {}
  }
 ],
 "metadata": {
  "orig_nbformat": 4,
  "language_info": {
   "name": "python",
   "version": "3.8.8",
   "mimetype": "text/x-python",
   "codemirror_mode": {
    "name": "ipython",
    "version": 3
   },
   "pygments_lexer": "ipython3",
   "nbconvert_exporter": "python",
   "file_extension": ".py"
  },
  "kernelspec": {
   "name": "python3",
   "display_name": "Python 3.8.8 64-bit ('base': conda)"
  },
  "interpreter": {
   "hash": "429d8f7deda5f177cd6df55c6f865eccdb39aa98164ec28eb6dec36762fdf47c"
  }
 },
 "nbformat": 4,
 "nbformat_minor": 2
}