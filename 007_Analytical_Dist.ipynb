{
 "cells": [
  {
   "cell_type": "code",
   "execution_count": 1,
   "metadata": {},
   "outputs": [],
   "source": [
    "import pandas as pd\n",
    "import numpy as np\n",
    "import thinkplot\n",
    "import thinkstats2\n",
    "import math"
   ]
  },
  {
   "cell_type": "code",
   "execution_count": 2,
   "metadata": {},
   "outputs": [
    {
     "data": {
      "text/html": [
       "<div>\n",
       "<style scoped>\n",
       "    .dataframe tbody tr th:only-of-type {\n",
       "        vertical-align: middle;\n",
       "    }\n",
       "\n",
       "    .dataframe tbody tr th {\n",
       "        vertical-align: top;\n",
       "    }\n",
       "\n",
       "    .dataframe thead th {\n",
       "        text-align: right;\n",
       "    }\n",
       "</style>\n",
       "<table border=\"1\" class=\"dataframe\">\n",
       "  <thead>\n",
       "    <tr style=\"text-align: right;\">\n",
       "      <th></th>\n",
       "      <th>Date</th>\n",
       "      <th>Close</th>\n",
       "    </tr>\n",
       "  </thead>\n",
       "  <tbody>\n",
       "    <tr>\n",
       "      <th>0</th>\n",
       "      <td>2018-01-01</td>\n",
       "      <td>88.190002</td>\n",
       "    </tr>\n",
       "    <tr>\n",
       "      <th>1</th>\n",
       "      <td>2018-01-08</td>\n",
       "      <td>89.599998</td>\n",
       "    </tr>\n",
       "    <tr>\n",
       "      <th>2</th>\n",
       "      <td>2018-01-15</td>\n",
       "      <td>90.000000</td>\n",
       "    </tr>\n",
       "    <tr>\n",
       "      <th>3</th>\n",
       "      <td>2018-01-22</td>\n",
       "      <td>94.059998</td>\n",
       "    </tr>\n",
       "    <tr>\n",
       "      <th>4</th>\n",
       "      <td>2018-01-29</td>\n",
       "      <td>91.779999</td>\n",
       "    </tr>\n",
       "  </tbody>\n",
       "</table>\n",
       "</div>"
      ],
      "text/plain": [
       "         Date      Close\n",
       "0  2018-01-01  88.190002\n",
       "1  2018-01-08  89.599998\n",
       "2  2018-01-15  90.000000\n",
       "3  2018-01-22  94.059998\n",
       "4  2018-01-29  91.779999"
      ]
     },
     "execution_count": 2,
     "metadata": {},
     "output_type": "execute_result"
    }
   ],
   "source": [
    "#Load data, loose the excess\n",
    "df = pd.read_csv('MSFT.csv')\n",
    "df = df[['Date', 'Close']]\n",
    "df.head()"
   ]
  },
  {
   "cell_type": "code",
   "execution_count": 3,
   "metadata": {},
   "outputs": [
    {
     "data": {
      "text/html": [
       "<div>\n",
       "<style scoped>\n",
       "    .dataframe tbody tr th:only-of-type {\n",
       "        vertical-align: middle;\n",
       "    }\n",
       "\n",
       "    .dataframe tbody tr th {\n",
       "        vertical-align: top;\n",
       "    }\n",
       "\n",
       "    .dataframe thead th {\n",
       "        text-align: right;\n",
       "    }\n",
       "</style>\n",
       "<table border=\"1\" class=\"dataframe\">\n",
       "  <thead>\n",
       "    <tr style=\"text-align: right;\">\n",
       "      <th></th>\n",
       "      <th>Date</th>\n",
       "      <th>return</th>\n",
       "    </tr>\n",
       "  </thead>\n",
       "  <tbody>\n",
       "    <tr>\n",
       "      <th>0</th>\n",
       "      <td>2018-01-01</td>\n",
       "      <td>0.015988</td>\n",
       "    </tr>\n",
       "    <tr>\n",
       "      <th>1</th>\n",
       "      <td>2018-01-08</td>\n",
       "      <td>0.004464</td>\n",
       "    </tr>\n",
       "    <tr>\n",
       "      <th>2</th>\n",
       "      <td>2018-01-15</td>\n",
       "      <td>0.045111</td>\n",
       "    </tr>\n",
       "    <tr>\n",
       "      <th>3</th>\n",
       "      <td>2018-01-22</td>\n",
       "      <td>-0.024240</td>\n",
       "    </tr>\n",
       "    <tr>\n",
       "      <th>4</th>\n",
       "      <td>2018-01-29</td>\n",
       "      <td>-0.039224</td>\n",
       "    </tr>\n",
       "  </tbody>\n",
       "</table>\n",
       "</div>"
      ],
      "text/plain": [
       "         Date    return\n",
       "0  2018-01-01  0.015988\n",
       "1  2018-01-08  0.004464\n",
       "2  2018-01-15  0.045111\n",
       "3  2018-01-22 -0.024240\n",
       "4  2018-01-29 -0.039224"
      ]
     },
     "execution_count": 3,
     "metadata": {},
     "output_type": "execute_result"
    }
   ],
   "source": [
    "#Do a little manipulation to get the return\n",
    "df['diff'] = pd.Series(np.diff(df['Close']))\n",
    "df['return'] = df['diff']/df['Close']\n",
    "df = df[['Date', 'return']].dropna()\n",
    "df.head()"
   ]
  },
  {
   "cell_type": "markdown",
   "metadata": {},
   "source": [
    "Our new table is the daily return - i.e. if we invested in MSFT one day, what would the return be from my investment from one day to the next. \n",
    "\n",
    "The first two days can be taken as an example:\n",
    "    - From day 1 to day 2 the price goes up apx $1.4\n",
    "    - $1.4 dollars is approximately 1.6% of the first day price - ~$88\n",
    "    - So if you invested on day one, you'd gain about 1.6%, or .016 <- That's the return value. \n",
    "\n",
    "We can do some of our graphing to take a little look-see and try to determine if this new distribution is normal:"
   ]
  },
  {
   "cell_type": "code",
   "execution_count": 4,
   "metadata": {},
   "outputs": [
    {
     "data": {
      "image/png": "[encoded data removed]",
      "text/plain": [
       "<Figure size 432x288 with 1 Axes>"
      ]
     },
     "metadata": {
      "needs_background": "light"
     },
     "output_type": "display_data"
    }
   ],
   "source": [
    "#Histogram\n",
    "hi = thinkstats2.Hist(round(df[\"return\"], 2), label=\"Price\")\n",
    "thinkplot.Hist(hi)\n",
    "thinkplot.Config()"
   ]
  },
  {
   "cell_type": "code",
   "execution_count": 5,
   "metadata": {},
   "outputs": [
    {
     "data": {
      "image/png": "[encoded data removed]",
      "text/plain": [
       "<Figure size 432x288 with 1 Axes>"
      ]
     },
     "metadata": {
      "needs_background": "light"
     },
     "output_type": "display_data"
    }
   ],
   "source": [
    "#CDF look\n",
    "hi_c = thinkstats2.Cdf(hi)\n",
    "thinkplot.Cdf(hi_c)\n",
    "thinkplot.Config()"
   ]
  },
  {
   "cell_type": "markdown",
   "metadata": {},
   "source": [
    "These charts look semi-normal, but not totally. Examine the probability plot to see it a bit closer. \n",
    "\n",
    "The thinkstats2 file provides this easy to use probability plot function. The book (pg 63ish) has the steps to make this broken out a little bit more. \n",
    "\n",
    "The most simple way I can think of to explain it is that it compares if the middle values are near the mean, the low values are near the low, and the high values are near the high. The model line is what we'd expect if the data was perfectly normal, in this one the middle values are close, the low values are a little lower than expected, the high values are a little lower than expected. \n",
    "\n",
    "In English, it is more or less normal for values close to the mean, but the values (the actual % return values) on either end of the distribution are a bit lower than we'd expect if it was normal. "
   ]
  },
  {
   "cell_type": "code",
   "execution_count": 26,
   "metadata": {},
   "outputs": [
    {
     "data": {
      "image/png": "[encoded data removed]",
      "text/plain": [
       "<Figure size 432x288 with 1 Axes>"
      ]
     },
     "metadata": {
      "needs_background": "light"
     },
     "output_type": "display_data"
    }
   ],
   "source": [
    "#Create probability plot\n",
    "thinkstats2.NormalProbabilityPlot(df[\"return\"])\n",
    "# x axis is standard deviation\n",
    "# y axis is actual values\n"
   ]
  },
  {
   "cell_type": "markdown",
   "metadata": {},
   "source": [
    "Does it match the line? Is it normal? Ehhhhh.... kind of. The highest and lowest values are both lower than expected. For values near the mean, it is pretty close. \n",
    "\n",
    "We can live on the wild side, assume that it is close enough to normal, and 'use' that normality to do some stuff. \n",
    "\n",
    "One of the super useful things about these analytical distributions is the simplicity. A normal curve is always the same basic shape, so all we need to do to create one is to know the mean (mu) and standard deviation (sigma). This allows us to easily extrapolate from what we know, and use all the attributes of the normal distribution. Again, this is an approximation, it is not bang on, but that is useful in a lot of cases. "
   ]
  },
  {
   "cell_type": "code",
   "execution_count": 7,
   "metadata": {},
   "outputs": [],
   "source": [
    "#Create a normal distribution based on the characteristics of the kinda-normal data\n",
    "import scipy.stats\n",
    "mu = df[\"return\"].mean()\n",
    "sigma = df[\"return\"].std()\n",
    "normz = scipy.stats.norm(mu, sigma)"
   ]
  },
  {
   "cell_type": "code",
   "execution_count": 8,
   "metadata": {},
   "outputs": [
    {
     "data": {
      "image/png": "[encoded data removed]",
      "text/plain": [
       "<Figure size 432x288 with 1 Axes>"
      ]
     },
     "metadata": {
      "needs_background": "light"
     },
     "output_type": "display_data"
    }
   ],
   "source": [
    "import matplotlib.pyplot as plt\n",
    "data = np.sort(df[\"return\"])\n",
    "x = np.linspace(-5,5, 52)\n",
    "plt.plot(x,normz.cdf(data))\n",
    "plt.show()"
   ]
  },
  {
   "cell_type": "code",
   "execution_count": 9,
   "metadata": {},
   "outputs": [
    {
     "name": "stdout",
     "output_type": "stream",
     "text": [
      "0.9355110908938288 : 0.9991544890514654\n"
     ]
    }
   ],
   "source": [
    "#How many daily returns are greater than .5%, but less than 1%?\n",
    "lowVal = normz.cdf(.05)\n",
    "hiVal = normz.cdf(.1)\n",
    "print(str(lowVal) + \" : \" + str(hiVal))"
   ]
  },
  {
   "cell_type": "code",
   "execution_count": 10,
   "metadata": {},
   "outputs": [
    {
     "data": {
      "text/plain": [
       "0.23901164802625616"
      ]
     },
     "execution_count": 10,
     "metadata": {},
     "output_type": "execute_result"
    }
   ],
   "source": [
    "#Check Normality with code\n",
    "k2, p = scipy.stats.normaltest(df[\"return\"])\n",
    "p"
   ]
  },
  {
   "cell_type": "code",
   "execution_count": 11,
   "metadata": {},
   "outputs": [
    {
     "name": "stdout",
     "output_type": "stream",
     "text": [
      "The null hypothesis cannot be rejected\n"
     ]
    }
   ],
   "source": [
    "#If we were to write out our decision....\n",
    "alpha = .05\n",
    "if p < alpha:  # null hypothesis: x comes from a normal distribution\n",
    "    print(\"The null hypothesis can be rejected\")\n",
    "else:\n",
    "    print(\"The null hypothesis cannot be rejected\")"
   ]
  },
  {
   "cell_type": "markdown",
   "metadata": {},
   "source": [
    "Now try one. \n",
    "    - Check and see if NFL weights data fits a normal dist.\n",
    "    - Create a normal analytical distribution based off of the emperical data.\n",
    "    - What percentage of people are between 265 and 325? Using the empirical?\n",
    "    - Using the analytical?\n",
    "    - What percentage of people are greater than your weight, using both distributions?\n",
    "If you're fast, try with NBA Weights"
   ]
  },
  {
   "cell_type": "markdown",
   "metadata": {},
   "source": [
    "We can try another one - lognormal\n",
    "\n",
    "We will look at the salary distribution of people in Spain."
   ]
  },
  {
   "cell_type": "code",
   "execution_count": 12,
   "metadata": {},
   "outputs": [
    {
     "data": {
      "text/html": [
       "<div>\n",
       "<style scoped>\n",
       "    .dataframe tbody tr th:only-of-type {\n",
       "        vertical-align: middle;\n",
       "    }\n",
       "\n",
       "    .dataframe tbody tr th {\n",
       "        vertical-align: top;\n",
       "    }\n",
       "\n",
       "    .dataframe thead th {\n",
       "        text-align: right;\n",
       "    }\n",
       "</style>\n",
       "<table border=\"1\" class=\"dataframe\">\n",
       "  <thead>\n",
       "    <tr style=\"text-align: right;\">\n",
       "      <th></th>\n",
       "      <th>year</th>\n",
       "      <th>state</th>\n",
       "      <th>gender</th>\n",
       "      <th>statistic</th>\n",
       "      <th>gross_income_euros</th>\n",
       "    </tr>\n",
       "  </thead>\n",
       "  <tbody>\n",
       "    <tr>\n",
       "      <th>0</th>\n",
       "      <td>2017</td>\n",
       "      <td>nationwide</td>\n",
       "      <td>both</td>\n",
       "      <td>mean</td>\n",
       "      <td>23646.50</td>\n",
       "    </tr>\n",
       "    <tr>\n",
       "      <th>1</th>\n",
       "      <td>2016</td>\n",
       "      <td>nationwide</td>\n",
       "      <td>both</td>\n",
       "      <td>mean</td>\n",
       "      <td>23156.34</td>\n",
       "    </tr>\n",
       "    <tr>\n",
       "      <th>2</th>\n",
       "      <td>2015</td>\n",
       "      <td>nationwide</td>\n",
       "      <td>both</td>\n",
       "      <td>mean</td>\n",
       "      <td>23106.30</td>\n",
       "    </tr>\n",
       "    <tr>\n",
       "      <th>3</th>\n",
       "      <td>2014</td>\n",
       "      <td>nationwide</td>\n",
       "      <td>both</td>\n",
       "      <td>mean</td>\n",
       "      <td>22858.17</td>\n",
       "    </tr>\n",
       "    <tr>\n",
       "      <th>4</th>\n",
       "      <td>2013</td>\n",
       "      <td>nationwide</td>\n",
       "      <td>both</td>\n",
       "      <td>mean</td>\n",
       "      <td>22697.86</td>\n",
       "    </tr>\n",
       "  </tbody>\n",
       "</table>\n",
       "</div>"
      ],
      "text/plain": [
       "   year       state gender statistic  gross_income_euros\n",
       "0  2017  nationwide   both      mean            23646.50\n",
       "1  2016  nationwide   both      mean            23156.34\n",
       "2  2015  nationwide   both      mean            23106.30\n",
       "3  2014  nationwide   both      mean            22858.17\n",
       "4  2013  nationwide   both      mean            22697.86"
      ]
     },
     "execution_count": 12,
     "metadata": {},
     "output_type": "execute_result"
    }
   ],
   "source": [
    "#Load and preview data\n",
    "dfSP = pd.read_csv(\"spain_salary.csv\")\n",
    "dfSP.head()"
   ]
  },
  {
   "cell_type": "code",
   "execution_count": 13,
   "metadata": {},
   "outputs": [
    {
     "data": {
      "text/plain": [
       "0       23646.50\n",
       "1       23156.34\n",
       "2       23106.30\n",
       "3       22858.17\n",
       "4       22697.86\n",
       "          ...   \n",
       "3185    23097.08\n",
       "3186    23512.09\n",
       "3187    23641.44\n",
       "3188    23240.00\n",
       "3189    22549.68\n",
       "Name: gross_income_euros, Length: 540, dtype: float64"
      ]
     },
     "execution_count": 13,
     "metadata": {},
     "output_type": "execute_result"
    }
   ],
   "source": [
    "#I'm going to extract the income into a Pandas Series. This is a 1D data structure\n",
    "#Not much differs in using it, but we should see it, it is common\n",
    "dfSP = dfSP[dfSP[\"statistic\"] == \"mean\"]\n",
    "spinc = pd.Series(dfSP[\"gross_income_euros\"])\n",
    "spinc"
   ]
  },
  {
   "cell_type": "markdown",
   "metadata": {},
   "source": [
    "Do some basic preview stuff for a few cells...."
   ]
  },
  {
   "cell_type": "code",
   "execution_count": 14,
   "metadata": {},
   "outputs": [
    {
     "data": {
      "text/plain": [
       "count      540.000000\n",
       "mean     21865.320611\n",
       "std       3217.149924\n",
       "min      16020.200000\n",
       "25%      19344.052500\n",
       "50%      21371.710000\n",
       "75%      23773.370000\n",
       "max      31618.970000\n",
       "Name: gross_income_euros, dtype: float64"
      ]
     },
     "execution_count": 14,
     "metadata": {},
     "output_type": "execute_result"
    }
   ],
   "source": [
    "spinc.describe()"
   ]
  },
  {
   "cell_type": "code",
   "execution_count": 15,
   "metadata": {},
   "outputs": [
    {
     "data": {
      "image/png": "[encoded data removed]",
      "text/plain": [
       "<Figure size 432x288 with 1 Axes>"
      ]
     },
     "metadata": {
      "needs_background": "light"
     },
     "output_type": "display_data"
    }
   ],
   "source": [
    "#Hist\n",
    "histSP = thinkstats2.Hist(round(spinc, -3))\n",
    "thinkplot.Hist(histSP)\n",
    "thinkplot.Config()"
   ]
  },
  {
   "cell_type": "code",
   "execution_count": 16,
   "metadata": {},
   "outputs": [
    {
     "data": {
      "image/png": "[encoded data removed]",
      "text/plain": [
       "<Figure size 432x288 with 1 Axes>"
      ]
     },
     "metadata": {
      "needs_background": "light"
     },
     "output_type": "display_data"
    }
   ],
   "source": [
    "#CDF\n",
    "cdfSP = thinkstats2.Cdf(spinc)\n",
    "thinkplot.Cdf(cdfSP)\n",
    "thinkplot.Config()"
   ]
  },
  {
   "cell_type": "markdown",
   "metadata": {},
   "source": [
    "Ok, is it lognormal?"
   ]
  },
  {
   "cell_type": "code",
   "execution_count": 17,
   "metadata": {},
   "outputs": [
    {
     "data": {
      "image/png": "[encoded data removed]",
      "text/plain": [
       "<Figure size 432x288 with 1 Axes>"
      ]
     },
     "metadata": {
      "needs_background": "light"
     },
     "output_type": "display_data"
    }
   ],
   "source": [
    "#Plot normal prob curve\n",
    "thinkstats2.NormalProbabilityPlot(np.log(spinc))"
   ]
  },
  {
   "cell_type": "markdown",
   "metadata": {},
   "source": [
    "How about normal?"
   ]
  },
  {
   "cell_type": "code",
   "execution_count": 18,
   "metadata": {},
   "outputs": [
    {
     "data": {
      "image/png": "[encoded data removed]",
      "text/plain": [
       "<Figure size 432x288 with 1 Axes>"
      ]
     },
     "metadata": {
      "needs_background": "light"
     },
     "output_type": "display_data"
    }
   ],
   "source": [
    "thinkstats2.NormalProbabilityPlot(spinc)"
   ]
  },
  {
   "cell_type": "markdown",
   "metadata": {},
   "source": [
    "What do these mean? \n",
    "\n",
    "The lognormal looks to be slightly more accurate through the curve, it is probably a better representation.  \n"
   ]
  },
  {
   "cell_type": "markdown",
   "metadata": {},
   "source": [
    "We can try another, maybe a Pareto "
   ]
  },
  {
   "cell_type": "code",
   "execution_count": 19,
   "metadata": {},
   "outputs": [
    {
     "data": {
      "text/plain": [
       "0    565.0\n",
       "1    405.0\n",
       "2    290.0\n",
       "3    260.0\n",
       "4    355.0\n",
       "Name: Wage, dtype: float64"
      ]
     },
     "execution_count": 19,
     "metadata": {},
     "output_type": "execute_result"
    }
   ],
   "source": [
    "df_fifa = pd.read_csv(\"fifa_eda.csv\")\n",
    "df_fifa = df_fifa[df_fifa[\"Wage\"] > 0]\n",
    "fifa = df_fifa[\"Wage\"]\n",
    "fifa.head()\n"
   ]
  },
  {
   "cell_type": "code",
   "execution_count": 20,
   "metadata": {},
   "outputs": [
    {
     "data": {
      "text/plain": [
       "count    17966.000000\n",
       "mean         9.861850\n",
       "std         22.117274\n",
       "min          1.000000\n",
       "25%          1.000000\n",
       "50%          3.000000\n",
       "75%          9.000000\n",
       "max        565.000000\n",
       "Name: Wage, dtype: float64"
      ]
     },
     "execution_count": 20,
     "metadata": {},
     "output_type": "execute_result"
    }
   ],
   "source": [
    "fifa.describe()"
   ]
  },
  {
   "cell_type": "code",
   "execution_count": 21,
   "metadata": {},
   "outputs": [
    {
     "data": {
      "image/png": "[encoded data removed]",
      "text/plain": [
       "<Figure size 432x288 with 1 Axes>"
      ]
     },
     "metadata": {
      "needs_background": "light"
     },
     "output_type": "display_data"
    }
   ],
   "source": [
    "h = thinkstats2.Hist(fifa)\n",
    "thinkplot.Hist(h)"
   ]
  },
  {
   "cell_type": "code",
   "execution_count": 22,
   "metadata": {},
   "outputs": [
    {
     "data": {
      "text/plain": [
       "{'xscale': 'linear', 'yscale': 'linear'}"
      ]
     },
     "execution_count": 22,
     "metadata": {},
     "output_type": "execute_result"
    },
    {
     "data": {
      "image/png": "[encoded data removed]",
      "text/plain": [
       "<Figure size 432x288 with 1 Axes>"
      ]
     },
     "metadata": {
      "needs_background": "light"
     },
     "output_type": "display_data"
    }
   ],
   "source": [
    "c = thinkstats2.Cdf(fifa)\n",
    "thinkplot.Cdf(c)"
   ]
  },
  {
   "cell_type": "markdown",
   "metadata": {},
   "source": [
    "Is it pareto?"
   ]
  },
  {
   "cell_type": "code",
   "execution_count": 23,
   "metadata": {},
   "outputs": [
    {
     "data": {
      "image/png": "[encoded data removed]",
      "text/plain": [
       "<Figure size 432x288 with 1 Axes>"
      ]
     },
     "metadata": {
      "needs_background": "light"
     },
     "output_type": "display_data"
    }
   ],
   "source": [
    "#Compare to pareto\n",
    "log_wage = np.log(fifa)\n",
    "cdf_log = thinkstats2.Cdf(log_wage)\n",
    "\n",
    "xs, ys = thinkstats2.RenderParetoCdf(alpha=3, low=0, high=1e6, xmin=50000)\n",
    "thinkplot.Plot(np.log10(xs), 1-ys, label=\"model\", color=\".8\")\n",
    "thinkplot.Cdf(cdf_log, complement=True, label=\"data\") \n",
    "thinkplot.Config(xlabel='log10 wage',ylabel='CCDF',yscale='log')"
   ]
  },
  {
   "cell_type": "code",
   "execution_count": 24,
   "metadata": {},
   "outputs": [
    {
     "data": {
      "image/png": "[encoded data removed]",
      "text/plain": [
       "<Figure size 432x288 with 1 Axes>"
      ]
     },
     "metadata": {
      "needs_background": "light"
     },
     "output_type": "display_data"
    }
   ],
   "source": [
    "#Compare it to LogNormal\n",
    "mu, sigma = log_wage.mean(), log_wage.std()\n",
    "xs, ps = thinkstats2.RenderNormalCdf(mu, sigma, low=0, high=8)\n",
    "thinkplot.Plot(xs, ps, label='model', color='0.8')\n",
    "thinkplot.Cdf(cdf_log) \n",
    "thinkplot.Config(xlabel='log10 wage', ylabel='CDF', loc='lower right')"
   ]
  }
 ],
 "metadata": {
  "interpreter": {
   "hash": "429d8f7deda5f177cd6df55c6f865eccdb39aa98164ec28eb6dec36762fdf47c"
  },
  "kernelspec": {
   "display_name": "Python 3.8.8 64-bit ('base': conda)",
   "name": "python3"
  },
  "language_info": {
   "codemirror_mode": {
    "name": "ipython",
    "version": 3
   },
   "file_extension": ".py",
   "mimetype": "text/x-python",
   "name": "python",
   "nbconvert_exporter": "python",
   "pygments_lexer": "ipython3",
   "version": "3.8.8"
  },
  "orig_nbformat": 4
 },
 "nbformat": 4,
 "nbformat_minor": 2
}
